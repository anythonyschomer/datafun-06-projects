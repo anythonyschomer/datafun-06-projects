{
 "cells": [
  {
   "attachments": {},
   "cell_type": "markdown",
   "metadata": {},
   "source": [
    "#### Author: Anthony Schomer\n",
    "#### Github: https://github.com/anythonyschomer\n",
    "#### Class: 44-608 Data Analytics Fundamentals\n",
    "#### Module 6 Project 6: Tell Your Own Story with Data"
   ]
  },
  {
   "attachments": {},
   "cell_type": "markdown",
   "metadata": {},
   "source": [
    "# <p style=\"text-align: center;\">Spotify</p>\n",
    "## <p style=\"text-align: center;\">An Impact of Streaming Music on the Music Industry</p>\n"
   ]
  },
  {
   "attachments": {},
   "cell_type": "markdown",
   "metadata": {},
   "source": [
    "# Spotify History \n",
    "\n",
    "Spotify History\n",
    "While discussing the name of the project the cofounders/creators settled with Spotify: The meaning pleased them (spot: place – identify: identity).\n",
    "Spotify is a multiplatform application of Swedish origin created in the mid-first decade of 2000 by web designer and entrepreneur Daniel Ek. It began its history as an application for computers in 2008 and a year later presented the mobile and dynamic version for smartphones. After signing a contract with numerous record labels such as Sony BMG, Hollywood Records, Warner Music, and Universal Music, among others, Spotify launched into the conquest of the music world by expanding its business and including services such as access to specialized magazines and other related applications. With the musical field.\n",
    "\n",
    "Consolidated as one of the most important applications in the music industry, Spotify has managed to connect with its users maintaining the freemium model (free and paid) and facilitating its use through alliances with important social networks (Facebook, Twitter, Instagram, Snapchat, etc.)"
   ]
  },
  {
   "attachments": {},
   "cell_type": "markdown",
   "metadata": {},
   "source": [
    "## **Part 1 - Initial Look at Data Set**"
   ]
  },
  {
   "attachments": {},
   "cell_type": "markdown",
   "metadata": {},
   "source": [
    "#### Spotify has kept records of all songs that have been on their application and website. Everything including danceability, tempo, acoustics, backing vocals, etc. This makes finding their data and utilizing it much easier. "
   ]
  },
  {
   "cell_type": "code",
   "execution_count": 5,
   "metadata": {},
   "outputs": [
    {
     "ename": "ModuleNotFoundError",
     "evalue": "No module named 'pandas'",
     "output_type": "error",
     "traceback": [
      "\u001b[1;31m---------------------------------------------------------------------------\u001b[0m",
      "\u001b[1;31mModuleNotFoundError\u001b[0m                       Traceback (most recent call last)",
      "Cell \u001b[1;32mIn[5], line 1\u001b[0m\n\u001b[1;32m----> 1\u001b[0m \u001b[39mimport\u001b[39;00m \u001b[39mpandas\u001b[39;00m \u001b[39mas\u001b[39;00m \u001b[39mpd\u001b[39;00m\n\u001b[0;32m      2\u001b[0m \u001b[39m#create a dictionary of data \u001b[39;00m\n\u001b[0;32m      3\u001b[0m data \u001b[39m=\u001b[39m{\u001b[39m'\u001b[39m\u001b[39mname\u001b[39m\u001b[39m'\u001b[39m: [\u001b[39m'\u001b[39m\u001b[39mAlice\u001b[39m\u001b[39m'\u001b[39m, \u001b[39m'\u001b[39m\u001b[39mBob\u001b[39m\u001b[39m'\u001b[39m, \u001b[39m'\u001b[39m\u001b[39mCharlie\u001b[39m\u001b[39m'\u001b[39m, \u001b[39m'\u001b[39m\u001b[39mDavid\u001b[39m\u001b[39m'\u001b[39m],\n\u001b[0;32m      4\u001b[0m        \u001b[39m'\u001b[39m\u001b[39mage\u001b[39m\u001b[39m'\u001b[39m: [\u001b[39m25\u001b[39m, \u001b[39m30\u001b[39m, \u001b[39m35\u001b[39m, \u001b[39m40\u001b[39m], \n\u001b[0;32m      5\u001b[0m        \u001b[39m'\u001b[39m\u001b[39mcountry\u001b[39m\u001b[39m'\u001b[39m: [\u001b[39m'\u001b[39m\u001b[39mUSA\u001b[39m\u001b[39m'\u001b[39m, \u001b[39m'\u001b[39m\u001b[39mCanada\u001b[39m\u001b[39m'\u001b[39m, \u001b[39m'\u001b[39m\u001b[39mAustralia\u001b[39m\u001b[39m'\u001b[39m, \u001b[39m'\u001b[39m\u001b[39mUK\u001b[39m\u001b[39m'\u001b[39m]}\n",
      "\u001b[1;31mModuleNotFoundError\u001b[0m: No module named 'pandas'"
     ]
    }
   ],
   "source": [
    "import pandas as pd\n",
    "#create a dictionary of data \n",
    "data ={'name': ['Alice', 'Bob', 'Charlie', 'David'],\n",
    "       'age': [25, 30, 35, 40], \n",
    "       'country': ['USA', 'Canada', 'Australia', 'UK']}\n",
    "\n"
   ]
  },
  {
   "cell_type": "code",
   "execution_count": null,
   "metadata": {},
   "outputs": [],
   "source": [
    "import pandas as pd\n",
    "#create a dictionary of data \n",
    "data ={'name': ['Alice', 'Bob', 'Charlie', 'David'],\n",
    "       'age': [25, 30, 35, 40], \n",
    "       'country': ['USA', 'Canada', 'Australia', 'UK']}\n",
    "\n",
    "#create a pandas DataFrame from the dictionary\n",
    "df=pd.DataFrame(data)\n",
    "#display the DataFrame\n",
    "print(df)"
   ]
  }
 ],
 "metadata": {
  "kernelspec": {
   "display_name": "Python 3",
   "language": "python",
   "name": "python3"
  },
  "language_info": {
   "codemirror_mode": {
    "name": "ipython",
    "version": 3
   },
   "file_extension": ".py",
   "mimetype": "text/x-python",
   "name": "python",
   "nbconvert_exporter": "python",
   "pygments_lexer": "ipython3",
   "version": "3.11.4"
  },
  "orig_nbformat": 4
 },
 "nbformat": 4,
 "nbformat_minor": 2
}
