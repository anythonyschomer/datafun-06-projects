{
 "cells": [
  {
   "attachments": {},
   "cell_type": "markdown",
   "metadata": {},
   "source": [
    "#### Author: Anthony Schomer\n",
    "#### Github: https://github.com/anythonyschomer\n",
    "#### Class: 44-608 Data Analytics Fundamentals\n",
    "#### Module 6 Project 6: Tell Your Own Story with Data"
   ]
  },
  {
   "attachments": {},
   "cell_type": "markdown",
   "metadata": {},
   "source": [
    "# <p style=\"text-align: center;\">Spotify</p>\n",
    "## <p style=\"text-align: center;\">An Impact of Streaming Music on the Music Industry</p>\n"
   ]
  },
  {
   "attachments": {},
   "cell_type": "markdown",
   "metadata": {},
   "source": [
    "# Spotify History \n",
    "\n",
    "Spotify History\n",
    "While discussing the name of the project the cofounders/creators settled with Spotify: The meaning pleased them (spot: place – identify: identity).\n",
    "Spotify is a multiplatform application of Swedish origin created in the mid-first decade of 2000 by web designer and entrepreneur Daniel Ek. It began its history as an application for computers in 2008 and a year later presented the mobile and dynamic version for smartphones. After signing a contract with numerous record labels such as Sony BMG, Hollywood Records, Warner Music, and Universal Music, among others, Spotify launched into the conquest of the music world by expanding its business and including services such as access to specialized magazines and other related applications. With the musical field.\n",
    "\n",
    "Consolidated as one of the most important applications in the music industry, Spotify has managed to connect with its users maintaining the freemium model (free and paid) and facilitating its use through alliances with important social networks (Facebook, Twitter, Instagram, Snapchat, etc.)"
   ]
  }
 ],
 "metadata": {
  "kernelspec": {
   "display_name": "Python 3",
   "language": "python",
   "name": "python3"
  },
  "language_info": {
   "name": "python",
   "version": "3.11.4"
  },
  "orig_nbformat": 4
 },
 "nbformat": 4,
 "nbformat_minor": 2
}
