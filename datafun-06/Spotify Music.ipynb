{
 "cells": [
  {
   "attachments": {},
   "cell_type": "markdown",
   "metadata": {},
   "source": [
    "#### Author: Anthony Schomer\n",
    "#### https://github.com/anythonyschomer\n",
    "#### Class: 44-608 Data Analytics Fundamentals\n",
    "#### Module 6 Project 6: Tell Your Own Story with Data"
   ]
  },
  {
   "attachments": {},
   "cell_type": "markdown",
   "metadata": {},
   "source": [
    "## <p style=\"text-align: center;\">## SPotify</p>\n",
    "#### <p style=\"text-align: center;\">An Impact of Streaming Music on the Music Industry</p>\n"
   ]
  },
  {
   "attachments": {},
   "cell_type": "markdown",
   "metadata": {},
   "source": []
  }
 ],
 "metadata": {
  "kernelspec": {
   "display_name": "Python 3",
   "language": "python",
   "name": "python3"
  },
  "language_info": {
   "name": "python",
   "version": "3.11.4"
  },
  "orig_nbformat": 4
 },
 "nbformat": 4,
 "nbformat_minor": 2
}
